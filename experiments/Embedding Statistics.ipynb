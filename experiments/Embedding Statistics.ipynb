{
 "cells": [
  {
   "cell_type": "markdown",
   "metadata": {},
   "source": [
    "Embedding Statistics\n",
    "=================\n",
    "\n",
    "This code emperically determines the [domain](https://en.wikipedia.org/wiki/Domain_of_a_function) of the enrolled vectors and provides other helpful statistics. Useful for understanding the aggregate properties of the embeddings."
   ]
  },
  {
   "cell_type": "code",
   "execution_count": 1,
   "metadata": {},
   "outputs": [],
   "source": [
    "from binah.model import Vector, get_config_single_host\n",
    "from tqdm import tqdm_notebook as tqdm\n",
    "import numpy as np\n",
    "\n",
    "\n",
    "config = get_config_single_host()\n",
    "query = config.query(Vector.vec)"
   ]
  },
  {
   "cell_type": "code",
   "execution_count": 2,
   "metadata": {
    "scrolled": true
   },
   "outputs": [
    {
     "data": {
      "application/vnd.jupyter.widget-view+json": {
       "model_id": "d8d923365af1413399fb48098fe15eaa",
       "version_major": 2,
       "version_minor": 0
      },
      "text/plain": [
       "HBox(children=(IntProgress(value=0, description='Vectors', max=616767), HTML(value='')))"
      ]
     },
     "metadata": {},
     "output_type": "display_data"
    },
    {
     "name": "stdout",
     "output_type": "stream",
     "text": [
      "\n",
      "Embedding Statistics\n",
      "====================\n",
      "Top Maxes: [0.14407796 0.14431612 0.14437321 0.14445287 0.1445786  0.14481735\n",
      " 0.14497212 0.14619437 0.14660802 0.14782998 0.14818104 0.14863257\n",
      " 0.1489033  0.15048969 0.1515979  0.15184359 0.15277444 0.15513025\n",
      " 0.16090414 0.16335225]\n",
      "Top Mins: [-0.17133677 -0.1655125  -0.1655125  -0.1655125  -0.16292623 -0.15957768\n",
      " -0.15745819 -0.1573801  -0.1562428  -0.1562428  -0.15618019 -0.15579247\n",
      " -0.15521643 -0.15374443 -0.15366852 -0.15309294 -0.1529138  -0.15218389\n",
      " -0.1517213  -0.15163776]\n",
      "Mean of Maxes: 0.0946391\n",
      "Mean of Mins: -0.094648376\n",
      "Sums (largest): [3.916528  3.917465  3.9222074 3.9232428 3.9300818 3.9364767 3.9439158\n",
      " 3.950307  3.9511452 3.9673526 3.979783  4.0115128 4.0670533 4.091491\n",
      " 4.091509  4.0947056 4.1919756 4.230557  4.378519  4.456129 ]\n",
      "Sums (smallest): [-2.3035164 -2.2830157 -2.2495246 -2.0803638 -2.0059276 -2.0014672\n",
      " -1.993067  -1.9765998 -1.9698577 -1.9527419 -1.9513801 -1.9367818\n",
      " -1.9156747 -1.9022464 -1.9005005 -1.8995728 -1.8970131 -1.8792874\n",
      " -1.8649446 -1.8437248]\n",
      "Mean of Sums: 1.097756\n"
     ]
    }
   ],
   "source": [
    "mins = []\n",
    "maxes = []\n",
    "sums = []\n",
    "for (vec,) in tqdm(query, total=query.count(), unit=' vecs', \n",
    "                   desc='Vectors'):\n",
    "    vec = np.frombuffer(vec, dtype=np.float32)\n",
    "    maxes.append(np.max(vec))\n",
    "    mins.append(np.min(vec))\n",
    "    sums.append(np.sum(vec))\n",
    "mins = np.sort(mins)\n",
    "maxes = np.sort(maxes)\n",
    "sums = np.sort(sums)\n",
    "\n",
    "print(\"Embedding Statistics\")\n",
    "print(\"====================\")\n",
    "print('Top Maxes: ' + str(maxes[-20:]))\n",
    "print('Top Mins: ' + str(mins[0:20]))\n",
    "print('Mean of Maxes: ' + str(np.mean(maxes)))\n",
    "print('Mean of Mins: ' + str(np.mean(mins)))\n",
    "print('Sums (largest): ' + str(sums[-20:]))\n",
    "print('Sums (smallest): ' + str(sums[0:20]))\n",
    "print('Mean of Sums: ' + str(np.mean(sums)))"
   ]
  }
 ],
 "metadata": {
  "kernelspec": {
   "display_name": "Python 3",
   "language": "python",
   "name": "python3"
  },
  "language_info": {
   "codemirror_mode": {
    "name": "ipython",
    "version": 3
   },
   "file_extension": ".py",
   "mimetype": "text/x-python",
   "name": "python",
   "nbconvert_exporter": "python",
   "pygments_lexer": "ipython3",
   "version": "3.6.5"
  }
 },
 "nbformat": 4,
 "nbformat_minor": 2
}
